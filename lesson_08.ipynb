{
 "cells": [
  {
   "cell_type": "markdown",
   "metadata": {},
   "source": [
    "# Lesson 08\n",
    "\n",
    "\n",
    "# Geocoding (con't), Lambda Functions and Street Networks with OSMnx\n",
    "\n",
    "\n",
    "\n",
    "\n",
    "![http://www.pratt.edu/tiny_mce/plugins/imagemanager/files/Light_brown_blue22.jpg](http://www.pratt.edu/tiny_mce/plugins/imagemanager/files/Light_brown_blue22.jpg)\n",
    "\n",
    "# Class Links\n",
    "\n",
    "* [Syllabus](https://docs.google.com/document/d/1KHxT-NkaoXXdSNkK8JlzL2FFgmNoxPQ25fwgtXPnbrY)\n",
    "\n",
    "* [Class Google Spreadsheet](https://docs.google.com/spreadsheets/d/1t481r7HjQBbjNtFOABSOlcckzQhdrh12TCzpSYKurI0/edit?usp=sharing)\n",
    "\n",
    "* [Google Meetup Video Hangout](https://meet.google.com/aym-kxae-bzr)\n",
    "\n",
    "  * For United States Dial +1 \n",
    "    * (669) 220-6376\n",
    "  * Enter this PIN when prompted: \n",
    "    * 891 126 706 #\n",
    "  \n",
    "* [GitHub Organization](https://github.com/pratt-savi-810)\n",
    "\n",
    "* [Slack Organization](https://app.slack.com/client/T01068MA75X/C010J3Q2QET)\n",
    "\n",
    "* [Resources](https://github.com/pratt-savi-810/resources)"
   ]
  },
  {
   "cell_type": "markdown",
   "metadata": {
    "toc": true
   },
   "source": [
    "<h1>Table of Contents<span class=\"tocSkip\"></span></h1>\n",
    "<div class=\"toc\"><ul class=\"toc-item\"><li><span><a href=\"#Lesson-08\" data-toc-modified-id=\"Lesson-08-1\">Lesson 08</a></span></li><li><span><a href=\"#Geocoding-(con't),-Lambda-Functions-and-Street-Networks-with-OSMnx\" data-toc-modified-id=\"Geocoding-(con't),-Lambda-Functions-and-Street-Networks-with-OSMnx-2\">Geocoding (con't), Lambda Functions and Street Networks with OSMnx</a></span></li><li><span><a href=\"#Class-Links\" data-toc-modified-id=\"Class-Links-3\">Class Links</a></span></li><li><span><a href=\"#Assignment-04-Assigned\" data-toc-modified-id=\"Assignment-04-Assigned-4\">Assignment 04 Assigned</a></span></li><li><span><a href=\"#Optional-Assignment---Code-Wars---Python\" data-toc-modified-id=\"Optional-Assignment---Code-Wars---Python-5\">Optional Assignment - Code Wars - Python</a></span></li><li><span><a href=\"#Learning-Objectives\" data-toc-modified-id=\"Learning-Objectives-6\">Learning Objectives</a></span><ul class=\"toc-item\"><li><ul class=\"toc-item\"><li><span><a href=\"#Fork-and-Clone-this-Lesson-Repo\" data-toc-modified-id=\"Fork-and-Clone-this-Lesson-Repo-6.0.1\">Fork and Clone this Lesson Repo</a></span></li></ul></li></ul></li><li><span><a href=\"#Import-Libraries\" data-toc-modified-id=\"Import-Libraries-7\">Import Libraries</a></span></li><li><span><a href=\"#Geocoding\" data-toc-modified-id=\"Geocoding-8\">Geocoding</a></span><ul class=\"toc-item\"><li><ul class=\"toc-item\"><li><ul class=\"toc-item\"><li><span><a href=\"#Let's-load-in-our-familiar-NYC-Boroughs-dataset.\" data-toc-modified-id=\"Let's-load-in-our-familiar-NYC-Boroughs-dataset.-8.0.0.1\">Let's load in our familiar NYC Boroughs dataset.</a></span></li><li><span><a href=\"#Back-to-Geocoding\" data-toc-modified-id=\"Back-to-Geocoding-8.0.0.2\">Back to Geocoding</a></span></li><li><span><a href=\"#Additional-Imports\" data-toc-modified-id=\"Additional-Imports-8.0.0.3\">Additional Imports</a></span></li><li><span><a href=\"#Set-our-Geolocator-as-the-Geocoder-we'd-like-to-use\" data-toc-modified-id=\"Set-our-Geolocator-as-the-Geocoder-we'd-like-to-use-8.0.0.4\">Set our Geolocator as the Geocoder we'd like to use</a></span></li><li><span><a href=\"#Define-our-address-data\" data-toc-modified-id=\"Define-our-address-data-8.0.0.5\">Define our address data</a></span></li><li><span><a href=\"#Create-our-DataFrame\" data-toc-modified-id=\"Create-our-DataFrame-8.0.0.6\">Create our DataFrame</a></span></li><li><span><a href=\"#Geocode-addresses\" data-toc-modified-id=\"Geocode-addresses-8.0.0.7\">Geocode addresses</a></span></li><li><span><a href=\"#Create-a-geometry-column,-lambda-function-using-Shapely's-Point()-class.\" data-toc-modified-id=\"Create-a-geometry-column,-lambda-function-using-Shapely's-Point()-class.-8.0.0.8\">Create a <code>geometry</code> column, lambda function using Shapely's <code>Point()</code> class.</a></span></li><li><span><a href=\"#What-is-a-lambda-function?\" data-toc-modified-id=\"What-is-a-lambda-function?-8.0.0.9\">What is a <code>lambda</code> function?</a></span></li><li><span><a href=\"#Generate-a-GeoDataFrame-using-our-'geometry'-column.\" data-toc-modified-id=\"Generate-a-GeoDataFrame-using-our-'geometry'-column.-8.0.0.10\">Generate a GeoDataFrame using our <code>'geometry'</code> column.</a></span></li><li><span><a href=\"#Plot-address\" data-toc-modified-id=\"Plot-address-8.0.0.11\">Plot <code>address</code></a></span></li><li><span><a href=\"#Import-distance-from-geopy\" data-toc-modified-id=\"Import-distance-from-geopy-8.0.0.12\">Import <code>distance</code> from <code>geopy</code></a></span></li><li><span><a href=\"#Check-out-address.geometry-attribute\" data-toc-modified-id=\"Check-out-address.geometry-attribute-8.0.0.13\">Check out <code>address.geometry</code> attribute</a></span></li><li><span><a href=\"#Let's-plot-the-addresses-with-our-Boros-(gdf)\" data-toc-modified-id=\"Let's-plot-the-addresses-with-our-Boros-(gdf)-8.0.0.14\">Let's plot the addresses with our Boros (<code>gdf</code>)</a></span></li></ul></li></ul></li></ul></li><li><span><a href=\"#Calculating-Distance-with-GeoPy\" data-toc-modified-id=\"Calculating-Distance-with-GeoPy-9\">Calculating Distance with GeoPy</a></span><ul class=\"toc-item\"><li><span><a href=\"#Great-Circle-Distance-and-the-Rhumb-Line\" data-toc-modified-id=\"Great-Circle-Distance-and-the-Rhumb-Line-9.1\">Great Circle Distance and the Rhumb Line</a></span><ul class=\"toc-item\"><li><ul class=\"toc-item\"><li><span><a href=\"#A-Rhumb-Line-on-Mercator-Projection\" data-toc-modified-id=\"A-Rhumb-Line-on-Mercator-Projection-9.1.0.1\">A Rhumb Line on Mercator Projection</a></span></li><li><span><a href=\"#Rhumb-Lines-on-North-Pole-Azimuthal-Equidistance-Projection\" data-toc-modified-id=\"Rhumb-Lines-on-North-Pole-Azimuthal-Equidistance-Projection-9.1.0.2\">Rhumb Lines on North Pole Azimuthal Equidistance Projection</a></span></li></ul></li><li><span><a href=\"#Exmaple-of-West-Palm-Beach,-Florida,-US-to-Lisbon,-Portugal-in-Google-Maps\" data-toc-modified-id=\"Exmaple-of-West-Palm-Beach,-Florida,-US-to-Lisbon,-Portugal-in-Google-Maps-9.1.1\">Exmaple of West Palm Beach, Florida, US to Lisbon, Portugal in Google Maps</a></span><ul class=\"toc-item\"><li><span><a href=\"#Import-distance-from-geopy\" data-toc-modified-id=\"Import-distance-from-geopy-9.1.1.1\">Import <code>distance</code> from <code>geopy</code></a></span></li><li><span><a href=\"#Set-places-equal-to-Latitude,-Longitude-tuples\" data-toc-modified-id=\"Set-places-equal-to-Latitude,-Longitude-tuples-9.1.1.2\">Set places equal to Latitude, Longitude tuples</a></span></li><li><span><a href=\"#Create-a-new-variable-that's-the-distance\" data-toc-modified-id=\"Create-a-new-variable-that's-the-distance-9.1.1.3\">Create a new variable that's the distance</a></span></li><li><span><a href=\"#Show-our-variable's-output-in-miles,-using-.miles\" data-toc-modified-id=\"Show-our-variable's-output-in-miles,-using-.miles-9.1.1.4\">Show our variable's output in miles, using <code>.miles</code></a></span></li><li><span><a href=\"#Show-our-variable's-output-in-kilomters,-using-.kilometers\" data-toc-modified-id=\"Show-our-variable's-output-in-kilomters,-using-.kilometers-9.1.1.5\">Show our variable's output in kilomters, using <code>.kilometers</code></a></span></li><li><span><a href=\"#Try-with-great_circle\" data-toc-modified-id=\"Try-with-great_circle-9.1.1.6\">Try with <code>great_circle</code></a></span></li><li><span><a href=\"#Show-.miles,\" data-toc-modified-id=\"Show-.miles,-9.1.1.7\">Show <code>.miles,</code></a></span></li><li><span><a href=\"#Test-Geodesic-vs.-Great-Circle\" data-toc-modified-id=\"Test-Geodesic-vs.-Great-Circle-9.1.1.8\">Test Geodesic vs. Great Circle</a></span></li><li><span><a href=\"#Difference\" data-toc-modified-id=\"Difference-9.1.1.9\">Difference</a></span></li></ul></li></ul></li><li><span><a href=\"#GeodesicLinesToGIS-0.5.0\" data-toc-modified-id=\"GeodesicLinesToGIS-0.5.0-9.2\">GeodesicLinesToGIS 0.5.0</a></span><ul class=\"toc-item\"><li><ul class=\"toc-item\"><li><span><a href=\"#Fromgeodesiclinestogis-import-GeodesicLine2Gisfile\" data-toc-modified-id=\"Fromgeodesiclinestogis-import-GeodesicLine2Gisfile-9.2.0.1\">From<code>geodesiclinestogis</code> import <code>GeodesicLine2Gisfile</code></a></span></li><li><span><a href=\"#Create-gtg-object-instance-of-GeodesicLine2Gisfile()\" data-toc-modified-id=\"Create-gtg-object-instance-of-GeodesicLine2Gisfile()-9.2.0.2\">Create <code>gtg</code> object instance of <code>GeodesicLine2Gisfile()</code></a></span></li><li><span><a href=\"#Let's-look-at-our-new_york-and-los_angeles-lat,-lng-tuples\" data-toc-modified-id=\"Let's-look-at-our-new_york-and-los_angeles-lat,-lng-tuples-9.2.0.3\">Let's look at our <code>new_york</code> and <code>los_angeles</code> lat, lng tuples</a></span></li><li><span><a href=\"#We-can-add-two-tuples-together\" data-toc-modified-id=\"We-can-add-two-tuples-together-9.2.0.4\">We can add two tuples together</a></span></li><li><span><a href=\"#Now-let's-create-our-line-feature\" data-toc-modified-id=\"Now-let's-create-our-line-feature-9.2.0.5\">Now let's create our line feature</a></span></li><li><span><a href=\"#What-went-wrong???\" data-toc-modified-id=\"What-went-wrong???-9.2.0.6\">What went wrong???</a></span></li><li><span><a href=\"#Let's-try-to-construct-our-coord_pairs-again\" data-toc-modified-id=\"Let's-try-to-construct-our-coord_pairs-again-9.2.0.7\">Let's try to construct our coord_pairs again</a></span></li><li><span><a href=\"#Create-our-GIS-output-file\" data-toc-modified-id=\"Create-our-GIS-output-file-9.2.0.8\">Create our GIS output file</a></span></li><li><span><a href=\"#Read-our-output-GIS-file\" data-toc-modified-id=\"Read-our-output-GIS-file-9.2.0.9\">Read our output GIS file</a></span></li><li><span><a href=\"#Plot-our-gdf\" data-toc-modified-id=\"Plot-our-gdf-9.2.0.10\">Plot our gdf</a></span></li></ul></li></ul></li></ul></li><li><span><a href=\"#Networks\" data-toc-modified-id=\"Networks-10\">Networks</a></span><ul class=\"toc-item\"><li><span><a href=\"#Networks-with-OSMnx\" data-toc-modified-id=\"Networks-with-OSMnx-10.1\">Networks with OSMnx</a></span><ul class=\"toc-item\"><li><span><a href=\"#OSMnx:-Python-for-Street-Networks\" data-toc-modified-id=\"OSMnx:-Python-for-Street-Networks-10.1.1\">OSMnx: Python for Street Networks</a></span></li><li><span><a href=\"#Installing-OSMnx\" data-toc-modified-id=\"Installing-OSMnx-10.1.2\">Installing OSMnx</a></span></li><li><span><a href=\"#About-OSMnx\" data-toc-modified-id=\"About-OSMnx-10.1.3\">About OSMnx</a></span><ul class=\"toc-item\"><li><span><a href=\"#Links\" data-toc-modified-id=\"Links-10.1.3.1\">Links</a></span></li><li><span><a href=\"#Let's-get-a-Place-Boundary-from-OSMnx\" data-toc-modified-id=\"Let's-get-a-Place-Boundary-from-OSMnx-10.1.3.2\">Let's get a Place Boundary from OSMnx</a></span></li><li><span><a href=\"#Plot-city\" data-toc-modified-id=\"Plot-city-10.1.3.3\">Plot <code>city</code></a></span></li><li><span><a href=\"#OSMnx,-has-it's-own-Function-to-save-as-a-shapefile,-in-a-folder-called-data\" data-toc-modified-id=\"OSMnx,-has-it's-own-Function-to-save-as-a-shapefile,-in-a-folder-called-data-10.1.3.4\">OSMnx, has it's own Function to save as a shapefile, in a folder called <code>data</code></a></span></li><li><span><a href=\"#Let's-get-some-Streets-from-Ojai,-California,-via-the-graph_from_place()-function-to-get-the-Streets-Network.\" data-toc-modified-id=\"Let's-get-some-Streets-from-Ojai,-California,-via-the-graph_from_place()-function-to-get-the-Streets-Network.-10.1.3.5\">Let's get some Streets from Ojai, California, via the <code>graph_from_place()</code> function to get the Streets Network.</a></span></li><li><span><a href=\"#Let's-plot-a-graph-of-the-Ojai-Streets-Network\" data-toc-modified-id=\"Let's-plot-a-graph-of-the-Ojai-Streets-Network-10.1.3.6\">Let's plot a graph of the Ojai Streets Network</a></span></li><li><span><a href=\"#This-OSMnx-object-from-ox.graph_from_place()-is-not-a-GeoDataFrame-object\" data-toc-modified-id=\"This-OSMnx-object-from-ox.graph_from_place()-is-not-a-GeoDataFrame-object-10.1.3.7\">This OSMnx object from <code>ox.graph_from_place()</code> is not a GeoDataFrame object</a></span></li><li><span><a href=\"#Let's-get-the-Nodes-and-Edges-of-the-Graph\" data-toc-modified-id=\"Let's-get-the-Nodes-and-Edges-of-the-Graph-10.1.3.8\">Let's get the Nodes and Edges of the Graph</a></span></li><li><span><a href=\"#Let's-look-at-graph_gdfs\" data-toc-modified-id=\"Let's-look-at-graph_gdfs-10.1.3.9\">Let's look at <code>graph_gdfs</code></a></span></li><li><span><a href=\"#We'll-also-grab-the-boundary-for-Ojai,-California\" data-toc-modified-id=\"We'll-also-grab-the-boundary-for-Ojai,-California-10.1.3.10\">We'll also grab the boundary for Ojai, California</a></span></li><li><span><a href=\"#Plot-them-together\" data-toc-modified-id=\"Plot-them-together-10.1.3.11\">Plot them together</a></span></li><li><span><a href=\"#Let's-grab-a-road-network-around-Pratt-University\" data-toc-modified-id=\"Let's-grab-a-road-network-around-Pratt-University-10.1.3.12\">Let's grab a road network around Pratt University</a></span></li><li><span><a href=\"#OSMnx-allows-for-quick-projection-to-UTM-Zone\" data-toc-modified-id=\"OSMnx-allows-for-quick-projection-to-UTM-Zone-10.1.3.13\">OSMnx allows for quick projection to UTM Zone</a></span></li><li><span><a href=\"#Let's-look-at-the-Projection-system-(crs)-info\" data-toc-modified-id=\"Let's-look-at-the-Projection-system-(crs)-info-10.1.3.14\">Let's look at the Projection system (crs) info</a></span></li><li><span><a href=\"#Let's-use-ox.plot_graph-to-plot-our-Graph\" data-toc-modified-id=\"Let's-use-ox.plot_graph-to-plot-our-Graph-10.1.3.15\">Let's use <code>ox.plot_graph</code> to plot our Graph</a></span></li><li><span><a href=\"#Let's-parse-those-out-into-a-set-of-GeoDataFrames\" data-toc-modified-id=\"Let's-parse-those-out-into-a-set-of-GeoDataFrames-10.1.3.16\">Let's parse those out into a set of GeoDataFrames</a></span></li><li><span><a href=\"#And-pull-out-the-intersections-and-the-streets\" data-toc-modified-id=\"And-pull-out-the-intersections-and-the-streets-10.1.3.17\">And pull out the intersections and the streets</a></span></li><li><span><a href=\"#Let's-grab-just-the-pratt-address-from-our-address-GeoDataFrame\" data-toc-modified-id=\"Let's-grab-just-the-pratt-address-from-our-address-GeoDataFrame-10.1.3.18\">Let's grab just the pratt address from our <code>address</code> GeoDataFrame</a></span></li><li><span><a href=\"#Let's-overlay-our-Radial-Buffer-and-our-Network-Analysis-1km-output.\" data-toc-modified-id=\"Let's-overlay-our-Radial-Buffer-and-our-Network-Analysis-1km-output.-10.1.3.19\">Let's overlay our Radial Buffer and our Network Analysis 1km output.</a></span></li></ul></li></ul></li></ul></li><li><span><a href=\"#Let's-use-a-smaller-buffer-and-&quot;Clip&quot;-our-Streets-Data\" data-toc-modified-id=\"Let's-use-a-smaller-buffer-and-&quot;Clip&quot;-our-Streets-Data-11\">Let's use a smaller buffer and \"Clip\" our Streets Data</a></span><ul class=\"toc-item\"><li><ul class=\"toc-item\"><li><ul class=\"toc-item\"><li><span><a href=\"#Copy-our-pratt_point\" data-toc-modified-id=\"Copy-our-pratt_point-11.0.0.1\">Copy our <code>pratt_point</code></a></span></li><li><span><a href=\"#Plot-our-circle\" data-toc-modified-id=\"Plot-our-circle-11.0.0.2\">Plot our <code>circle</code></a></span></li><li><span><a href=\"#Change-the-CRS-to-NY-State-Plane\" data-toc-modified-id=\"Change-the-CRS-to-NY-State-Plane-11.0.0.3\">Change the CRS to NY State Plane</a></span></li><li><span><a href=\"#Set-it's-geometry-column-to-a-buffer-of-1000-feet\" data-toc-modified-id=\"Set-it's-geometry-column-to-a-buffer-of-1000-feet-11.0.0.4\">Set it's geometry column to a buffer of 1000 feet</a></span></li><li><span><a href=\"#We'll-actually-set-back-to-WGS-84,-not-good-in-practice\" data-toc-modified-id=\"We'll-actually-set-back-to-WGS-84,-not-good-in-practice-11.0.0.5\">We'll actually set back to WGS 84, not good in practice</a></span></li><li><span><a href=\"#Plot\" data-toc-modified-id=\"Plot-11.0.0.6\">Plot</a></span></li><li><span><a href=\"#Plot-pratt_streets\" data-toc-modified-id=\"Plot-pratt_streets-11.0.0.7\">Plot <code>pratt_streets</code></a></span></li></ul></li></ul></li></ul></li><li><span><a href=\"#Spatial-Join-to-Clip-our-Streets\" data-toc-modified-id=\"Spatial-Join-to-Clip-our-Streets-12\">Spatial Join to Clip our Streets</a></span><ul class=\"toc-item\"><li><ul class=\"toc-item\"><li><ul class=\"toc-item\"><li><span><a href=\"#Plot-street_join\" data-toc-modified-id=\"Plot-street_join-12.0.0.1\">Plot <code>street_join</code></a></span></li><li><span><a href=\"#Show-Head-of-street_join\" data-toc-modified-id=\"Show-Head-of-street_join-12.0.0.2\">Show Head of <code>street_join</code></a></span></li><li><span><a href=\"#Query-our-GeoDataFrame,-only-include-features-that-intersect-with-Pratt-1000-feet-circle\" data-toc-modified-id=\"Query-our-GeoDataFrame,-only-include-features-that-intersect-with-Pratt-1000-feet-circle-12.0.0.3\">Query our GeoDataFrame, only include features that intersect with Pratt 1000 feet circle</a></span></li><li><span><a href=\"#Check-the-value_counts()\" data-toc-modified-id=\"Check-the-value_counts()-12.0.0.4\">Check the <code>value_counts()</code></a></span></li><li><span><a href=\"#Plot\" data-toc-modified-id=\"Plot-12.0.0.5\">Plot</a></span></li></ul></li></ul></li></ul></li><li><span><a href=\"#Gitignore-Review\" data-toc-modified-id=\"Gitignore-Review-13\">Gitignore Review</a></span><ul class=\"toc-item\"><li><ul class=\"toc-item\"><li><ul class=\"toc-item\"><li><span><a href=\"#Useful-.gitignore-file-links\" data-toc-modified-id=\"Useful-.gitignore-file-links-13.0.0.1\">Useful <code>.gitignore</code> file links</a></span></li></ul></li></ul></li></ul></li></ul></div>"
   ]
  },
  {
   "cell_type": "markdown",
   "metadata": {},
   "source": [
    "# Assignment 04 Assigned\n",
    "\n",
    "Fork and Clone: https://github.com/pratt-savi-810/pratt-savi-810-2020-03-assignment_04"
   ]
  },
  {
   "cell_type": "markdown",
   "metadata": {},
   "source": [
    "# Optional Assignment - Code Wars - Python\n",
    "\n",
    "* [Kata - Getting Started With Python!](https://www.codewars.com/collections/getting-started-with-python-1)"
   ]
  },
  {
   "cell_type": "markdown",
   "metadata": {},
   "source": [
    "# Learning Objectives\n",
    "\n",
    "\n",
    "* Insert Objectives\n",
    "\n",
    "\n",
    "\n",
    "### Fork and Clone this Lesson Repo\n",
    "\n",
    "https://github.com/pratt-savi-810/pratt-savi-810-2020-03-lesson_08\n",
    "\n"
   ]
  },
  {
   "cell_type": "markdown",
   "metadata": {},
   "source": [
    "# Import Libraries\n",
    "\n",
    "Let's `import` some of the libraries we've already used. "
   ]
  },
  {
   "cell_type": "code",
   "execution_count": 1,
   "metadata": {},
   "outputs": [],
   "source": [
    "import os\n",
    "import sys\n",
    "module_path = os.path.abspath(os.path.join('..'))\n",
    "if module_path not in sys.path:\n",
    "    sys.path.append(module_path)\n",
    "    \n",
    "\n",
    "from IPython.display import IFrame\n",
    "import pandas as pd\n",
    "import geopandas as gpd\n",
    "import matplotlib.pyplot as plt\n",
    "import numpy as np\n",
    "import missingno as msno\n",
    "import seaborn as sns\n",
    "import matplotlib.patches as patches\n",
    "\n",
    "\n",
    "%matplotlib inline\n",
    "%load_ext autoreload\n",
    "%autoreload 2"
   ]
  },
  {
   "cell_type": "markdown",
   "metadata": {},
   "source": [
    "# Geocoding \n",
    "\n",
    "Below is the code from last class to catch us up to where we last left off. "
   ]
  },
  {
   "cell_type": "markdown",
   "metadata": {},
   "source": [
    "#### Let's load in our familiar NYC Boroughs dataset."
   ]
  },
  {
   "cell_type": "code",
   "execution_count": 2,
   "metadata": {},
   "outputs": [],
   "source": [
    "boro_geojson_link = 'https://data.cityofnewyork.us/api/geospatial/tqmj-j8zm?method=export&format=GeoJSON'\n",
    "\n",
    "gdf = gpd.read_file(boro_geojson_link)\n",
    "gdf.to_crs(epsg=2263, inplace=True)  "
   ]
  },
  {
   "cell_type": "markdown",
   "metadata": {},
   "source": [
    "#### Back to Geocoding\n",
    "\n",
    "Let's run the code from last class. "
   ]
  },
  {
   "cell_type": "markdown",
   "metadata": {},
   "source": [
    "#### Additional Imports"
   ]
  },
  {
   "cell_type": "code",
   "execution_count": 3,
   "metadata": {},
   "outputs": [],
   "source": [
    "from geopy.geocoders import Nominatim\n",
    "from shapely.geometry import Point  # importing the Point class\n",
    "from geopandas import GeoDataFrame"
   ]
  },
  {
   "cell_type": "markdown",
   "metadata": {},
   "source": [
    "#### Set our Geolocator as the Geocoder we'd like to use"
   ]
  },
  {
   "cell_type": "code",
   "execution_count": null,
   "metadata": {},
   "outputs": [],
   "source": []
  },
  {
   "cell_type": "markdown",
   "metadata": {},
   "source": [
    "#### Define our address data"
   ]
  },
  {
   "cell_type": "code",
   "execution_count": 4,
   "metadata": {},
   "outputs": [],
   "source": [
    "data = {\n",
    "    'address': [\n",
    "        '175 5th Avenue NYC',\n",
    "        '200 Willoughby Ave, Brooklyn, NY 11205',\n",
    "        '315 Bowery, NY, NY',\n",
    "    ],\n",
    "    'name': [\n",
    "        'Flatiron Bldg',\n",
    "        'Pratt',\n",
    "        \"CBGB's\"\n",
    "    ]\n",
    "}  # this is our address data, that we'll use to create a DataFrame"
   ]
  },
  {
   "cell_type": "markdown",
   "metadata": {},
   "source": [
    "#### Create our DataFrame"
   ]
  },
  {
   "cell_type": "code",
   "execution_count": 5,
   "metadata": {},
   "outputs": [],
   "source": [
    "# create our dataframe of addresses"
   ]
  },
  {
   "cell_type": "markdown",
   "metadata": {},
   "source": [
    "#### Geocode addresses"
   ]
  },
  {
   "cell_type": "code",
   "execution_count": 6,
   "metadata": {},
   "outputs": [],
   "source": [
    "# apply our geocode function to create geocode output data to a col"
   ]
  },
  {
   "cell_type": "markdown",
   "metadata": {},
   "source": [
    "#### Create a `geometry` column, lambda function using Shapely's `Point()` class. "
   ]
  },
  {
   "cell_type": "code",
   "execution_count": 7,
   "metadata": {},
   "outputs": [],
   "source": [
    "# create a geometry column"
   ]
  },
  {
   "cell_type": "markdown",
   "metadata": {},
   "source": [
    "#### What is a `lambda` function? \n",
    "\n",
    "> Small anonymous functions can be created with the lambda keyword. This function returns the sum of its two arguments: lambda a, b: a+b. Lambda functions can be used wherever function objects are required. They are syntactically restricted to a single expression. Semantically, they are just syntactic sugar for a normal function definition. Like nested function definitions, lambda functions can reference variables from the containing scope. Source: https://docs.python.org/3/tutorial/controlflow.html\n",
    "\n",
    "Basically you can use a lambda when you don't want to define a function but you need to perform a function operation. \n",
    "\n",
    "#### Generate a GeoDataFrame using our `'geometry'` column. "
   ]
  },
  {
   "cell_type": "code",
   "execution_count": 9,
   "metadata": {},
   "outputs": [],
   "source": [
    "address = GeoDataFrame(df, geometry='geometry', crs={'init': 'epsg:4326', 'no_defs': True})\n",
    "# create a geodataframe called address, using the geometry column we created above\n",
    "# let's set the coordinate reference system. \n",
    "# slightly dif. than .to_crs, documented here:  https://github.com/geopandas/geopandas/issues/245"
   ]
  },
  {
   "cell_type": "markdown",
   "metadata": {},
   "source": [
    "#### Plot `address`\n"
   ]
  },
  {
   "cell_type": "code",
   "execution_count": null,
   "metadata": {},
   "outputs": [],
   "source": []
  },
  {
   "cell_type": "markdown",
   "metadata": {},
   "source": [
    "#### Import `distance` from `geopy`"
   ]
  },
  {
   "cell_type": "markdown",
   "metadata": {},
   "source": [
    "#### Check out `address.geometry` attribute"
   ]
  },
  {
   "cell_type": "code",
   "execution_count": null,
   "metadata": {},
   "outputs": [],
   "source": []
  },
  {
   "cell_type": "markdown",
   "metadata": {},
   "source": [
    "#### Let's plot the addresses with our Boros (`gdf`)"
   ]
  },
  {
   "cell_type": "code",
   "execution_count": 10,
   "metadata": {},
   "outputs": [],
   "source": [
    "fig, ax = plt.subplots(figsize=(12, 12))\n",
    "\n",
    "### code here\n",
    "\n",
    "### code here\n",
    "\n",
    "\n",
    "### code here\n",
    "\n",
    "plt.title('Geocoded Addresses')\n",
    "\n",
    "plt.show();"
   ]
  },
  {
   "cell_type": "markdown",
   "metadata": {},
   "source": [
    "# Calculating Distance with GeoPy\n",
    "\n",
    "> Geopy can calculate geodesic distance between two points using the [geodesic distance](https://en.wikipedia.org/wiki/Geodesics_on_an_ellipsoid) or the [great-circle distance](https://en.wikipedia.org/wiki/Great-circle_distance), with a default of the geodesic distance available as the function `geopy.distance.distance`.\n",
    "\n",
    "> Great-circle distance (great_circle) uses a spherical model of the earth, using the mean earth radius as defined by the International Union of Geodesy and Geophysics, (2a + b)/3 = 6371.0087714150598 kilometers approx 6371.009 km (for WGS-84), resulting in an error of up to about 0.5%. The radius value is stored in distance.EARTH_RADIUS, so it can be customized (it should always be in kilometers, however).\n",
    "\n",
    "> The geodesic distance is the shortest distance on the surface of an ellipsoidal model of the earth. The default algorithm uses the method is given by Karney (2013) (geodesic); this is accurate to round-off and always converges. An older deprecated method due to Vincenty (1975) (vincenty) is also available; this is only accurate to 0.2 mm and the distance calculation fails to converge for nearly antipodal points. `geopy.distance.distance` currently uses **geodesic**.\n",
    "\n",
    "> There are multiple popular ellipsoidal models, and which one will be the most accurate depends on where your points are located on the earth. The default is the WGS-84 ellipsoid, which is the most globally accurate. geopy includes a few other models in the distance.ELLIPSOIDS dictionary  Source: [https://geopy.readthedocs.io/en/stable/#module-geopy.distance](https://geopy.readthedocs.io/en/stable/#module-geopy.distance)\n",
    "\n",
    "\n"
   ]
  },
  {
   "cell_type": "markdown",
   "metadata": {},
   "source": [
    "## Great Circle Distance and the Rhumb Line\n",
    "\n",
    "Great Circle is the **shortest distance**. Rhumb line is constance azimuth - navigating by compass direction. \n",
    "\n",
    "Rhumb line: \n",
    "> a line on the chart which intersects all meridians at the same angle. Source: https://en.wikipedia.org/wiki/Rhumb_line\n",
    "\n",
    "![](https://www.mathworks.com/help/map/tutor4.png)\n",
    "_Source: [https://www.mathworks.com/help/map/rhumb-lines.html](https://www.mathworks.com/help/map/rhumb-lines.html)_"
   ]
  },
  {
   "cell_type": "markdown",
   "metadata": {},
   "source": [
    "#### A Rhumb Line on Mercator Projection\n",
    "\n",
    "![rhumbline](https://gisgeography.com/wp-content/uploads/2016/11/Rhumb-Line-Meridian-Angle-425x301.png)\n",
    "_Source: [https://gisgeography.com/rhumb-lines-loxodromes/](https://gisgeography.com/rhumb-lines-loxodromes/)_\n",
    "\n",
    "#### Rhumb Lines on North Pole Azimuthal Equidistance Projection\n",
    "\n",
    "![rhumbpolar](https://gisgeography.com/wp-content/uploads/2016/11/Polar-Projection-Rhumb-Line-425x301.png)\n",
    "_Source: [https://gisgeography.com/rhumb-lines-loxodromes/](https://gisgeography.com/rhumb-lines-loxodromes/)_\n"
   ]
  },
  {
   "cell_type": "markdown",
   "metadata": {},
   "source": [
    "### Exmaple of West Palm Beach, Florida, US to Lisbon, Portugal in Google Maps"
   ]
  },
  {
   "cell_type": "code",
   "execution_count": 214,
   "metadata": {},
   "outputs": [
    {
     "data": {
      "text/html": [
       "\n",
       "        <iframe\n",
       "            width=\"750\"\n",
       "            height=\"350\"\n",
       "            src=\"https://www.kavas.com/geometry.html\"\n",
       "            frameborder=\"0\"\n",
       "            allowfullscreen\n",
       "        ></iframe>\n",
       "        "
      ],
      "text/plain": [
       "<IPython.lib.display.IFrame at 0x7f9429020210>"
      ]
     },
     "execution_count": 214,
     "metadata": {},
     "output_type": "execute_result"
    }
   ],
   "source": [
    "IFrame('https://www.kavas.com/geometry.html', width=750, height=350)"
   ]
  },
  {
   "cell_type": "markdown",
   "metadata": {},
   "source": [
    "#### Import `distance` from `geopy`"
   ]
  },
  {
   "cell_type": "code",
   "execution_count": null,
   "metadata": {},
   "outputs": [],
   "source": []
  },
  {
   "cell_type": "markdown",
   "metadata": {},
   "source": [
    "#### Set places equal to Latitude, Longitude tuples"
   ]
  },
  {
   "cell_type": "code",
   "execution_count": null,
   "metadata": {},
   "outputs": [],
   "source": []
  },
  {
   "cell_type": "markdown",
   "metadata": {},
   "source": [
    "#### Create a new variable that's the distance "
   ]
  },
  {
   "cell_type": "code",
   "execution_count": null,
   "metadata": {},
   "outputs": [],
   "source": []
  },
  {
   "cell_type": "markdown",
   "metadata": {},
   "source": [
    "#### Show our variable's output in miles, using `.miles`"
   ]
  },
  {
   "cell_type": "code",
   "execution_count": null,
   "metadata": {},
   "outputs": [],
   "source": []
  },
  {
   "cell_type": "markdown",
   "metadata": {},
   "source": [
    "#### Show our variable's output in kilomters, using `.kilometers`"
   ]
  },
  {
   "cell_type": "code",
   "execution_count": null,
   "metadata": {},
   "outputs": [],
   "source": []
  },
  {
   "cell_type": "code",
   "execution_count": null,
   "metadata": {},
   "outputs": [],
   "source": []
  },
  {
   "cell_type": "markdown",
   "metadata": {},
   "source": [
    "#### Try with `great_circle`"
   ]
  },
  {
   "cell_type": "code",
   "execution_count": null,
   "metadata": {},
   "outputs": [],
   "source": []
  },
  {
   "cell_type": "markdown",
   "metadata": {},
   "source": [
    "#### Show `.miles,` "
   ]
  },
  {
   "cell_type": "code",
   "execution_count": null,
   "metadata": {},
   "outputs": [],
   "source": []
  },
  {
   "cell_type": "markdown",
   "metadata": {},
   "source": [
    "#### Test Geodesic vs. Great Circle"
   ]
  },
  {
   "cell_type": "code",
   "execution_count": null,
   "metadata": {},
   "outputs": [],
   "source": []
  },
  {
   "cell_type": "markdown",
   "metadata": {},
   "source": [
    "#### Difference"
   ]
  },
  {
   "cell_type": "code",
   "execution_count": null,
   "metadata": {},
   "outputs": [],
   "source": []
  },
  {
   "cell_type": "markdown",
   "metadata": {},
   "source": [
    "GeoPy only provides a calculated distance, what if I want a representative Shapefile or other data format of the line. \n",
    "\n",
    "## GeodesicLinesToGIS 0.5.0\n",
    "\n",
    "> Computes geodesic lines from start point to end point and stores them in a GIS file (Shapefile and GeoJSON). A geodesic is the shortest path between two points on a curved surface, like an ellipsoid of revolution (Read more on Wikipedia). Source: https://pypi.org/project/GeodesicLinesToGIS/\n",
    "\n",
    "`$ pip install GeodesicLinesToGIS`"
   ]
  },
  {
   "cell_type": "code",
   "execution_count": 325,
   "metadata": {},
   "outputs": [],
   "source": [
    "# !pip install GeodesicLinesToGIS"
   ]
  },
  {
   "cell_type": "markdown",
   "metadata": {},
   "source": [
    "#### From`geodesiclinestogis` import `GeodesicLine2Gisfile`"
   ]
  },
  {
   "cell_type": "code",
   "execution_count": null,
   "metadata": {},
   "outputs": [],
   "source": []
  },
  {
   "cell_type": "markdown",
   "metadata": {},
   "source": [
    "#### Create `gtg` object instance of `GeodesicLine2Gisfile()`"
   ]
  },
  {
   "cell_type": "code",
   "execution_count": 11,
   "metadata": {},
   "outputs": [],
   "source": [
    "# https://github.com/GeographicaGS/GeodesicLinesToGIS/blob/master/notebooks/GeodesicLinesToGIS.ipynb \n"
   ]
  },
  {
   "cell_type": "markdown",
   "metadata": {},
   "source": [
    "#### Let's look at our `new_york` and `los_angeles` lat, lng tuples"
   ]
  },
  {
   "cell_type": "code",
   "execution_count": null,
   "metadata": {},
   "outputs": [],
   "source": []
  },
  {
   "cell_type": "code",
   "execution_count": null,
   "metadata": {},
   "outputs": [],
   "source": []
  },
  {
   "cell_type": "markdown",
   "metadata": {},
   "source": [
    "#### We can add two tuples together"
   ]
  },
  {
   "cell_type": "code",
   "execution_count": null,
   "metadata": {},
   "outputs": [],
   "source": []
  },
  {
   "cell_type": "code",
   "execution_count": null,
   "metadata": {},
   "outputs": [],
   "source": []
  },
  {
   "cell_type": "markdown",
   "metadata": {},
   "source": [
    "#### Now let's create our line feature"
   ]
  },
  {
   "cell_type": "code",
   "execution_count": null,
   "metadata": {},
   "outputs": [],
   "source": []
  },
  {
   "cell_type": "markdown",
   "metadata": {},
   "source": [
    "#### What went wrong??? "
   ]
  },
  {
   "cell_type": "markdown",
   "metadata": {},
   "source": [
    "#### Let's try to construct our coord_pairs again"
   ]
  },
  {
   "cell_type": "code",
   "execution_count": null,
   "metadata": {},
   "outputs": [],
   "source": []
  },
  {
   "cell_type": "code",
   "execution_count": null,
   "metadata": {},
   "outputs": [],
   "source": []
  },
  {
   "cell_type": "markdown",
   "metadata": {},
   "source": [
    "#### Create our GIS output file"
   ]
  },
  {
   "cell_type": "code",
   "execution_count": null,
   "metadata": {},
   "outputs": [],
   "source": []
  },
  {
   "cell_type": "markdown",
   "metadata": {},
   "source": [
    "#### Read our output GIS file"
   ]
  },
  {
   "cell_type": "code",
   "execution_count": null,
   "metadata": {},
   "outputs": [],
   "source": []
  },
  {
   "cell_type": "markdown",
   "metadata": {},
   "source": [
    "#### Plot our gdf"
   ]
  },
  {
   "cell_type": "code",
   "execution_count": null,
   "metadata": {},
   "outputs": [],
   "source": []
  },
  {
   "cell_type": "markdown",
   "metadata": {},
   "source": [
    "# Networks"
   ]
  },
  {
   "cell_type": "markdown",
   "metadata": {},
   "source": [
    "## Networks with OSMnx\n",
    "\n",
    "### OSMnx: Python for Street Networks\n",
    "\n",
    "\n",
    "### Installing OSMnx\n",
    "\n",
    "\n",
    "```$ pip install osmnx==0.11```\n",
    "\n",
    "> If you are pip installing OSMnx, install geopandas and rtree first. It’s easiest to use conda-forge to get these dependencies installed. If you’re interested in OSMnx but don’t know where to begin, check out this guide to getting started with Python. Source: https://geoffboeing.com/2016/11/osmnx-python-street-networks/\n",
    "\n",
    "**Note** - If you experience a error, it may be that you didn't install `osmnx` as specified above. See this [GitHub Issue](https://github.com/gboeing/osmnx/issues/197)\n",
    "\n",
    "### About OSMnx\n",
    "\n",
    "> OSMnx: retrieve, model, analyze, and visualize street networks from OpenStreetMap. OSMnx is a Python package that lets you download spatial geometries and model, project, visualize, and analyze street networks and other spatial data from OpenStreetMap’s APIs. Users can download and model walkable, drivable, or bikable urban networks with a single line of Python code, and then easily analyze and visualize them. Source: https://osmnx.readthedocs.io/en/stable\n",
    "\n",
    "#### Links\n",
    "\n",
    "* https://geoffboeing.com/2016/11/osmnx-python-street-networks/\n",
    "    \n",
    "* https://github.com/gboeing/osmnx\n",
    "        \n",
    "* https://osmnx.readthedocs.io/en/stable/\n"
   ]
  },
  {
   "cell_type": "code",
   "execution_count": 142,
   "metadata": {},
   "outputs": [
    {
     "data": {
      "text/plain": [
       "'0.11'"
      ]
     },
     "execution_count": 142,
     "metadata": {},
     "output_type": "execute_result"
    }
   ],
   "source": [
    "import networkx as nx\n",
    "import osmnx as ox\n",
    "import requests\n",
    "import matplotlib.cm as cm\n",
    "import matplotlib.colors as colors\n",
    "ox.config(use_cache=True, log_console=True)\n",
    "ox.__version__"
   ]
  },
  {
   "cell_type": "markdown",
   "metadata": {},
   "source": [
    "#### Let's get a Place Boundary from OSMnx"
   ]
  },
  {
   "cell_type": "code",
   "execution_count": 12,
   "metadata": {},
   "outputs": [],
   "source": [
    "# get the boundary polygon for manhattan, save it as a shapefile, project it to UTM, and plot it\n"
   ]
  },
  {
   "cell_type": "markdown",
   "metadata": {},
   "source": [
    "#### Plot `city`"
   ]
  },
  {
   "cell_type": "code",
   "execution_count": null,
   "metadata": {},
   "outputs": [],
   "source": []
  },
  {
   "cell_type": "markdown",
   "metadata": {},
   "source": [
    "#### OSMnx, has it's own Function to save as a shapefile, in a folder called `data`"
   ]
  },
  {
   "cell_type": "code",
   "execution_count": null,
   "metadata": {},
   "outputs": [],
   "source": []
  },
  {
   "cell_type": "markdown",
   "metadata": {},
   "source": [
    "#### Let's get some Streets from Ojai, California, via the `graph_from_place()` function to get the Streets Network. "
   ]
  },
  {
   "cell_type": "code",
   "execution_count": 13,
   "metadata": {},
   "outputs": [],
   "source": [
    "\n",
    "# this may take a while, \n",
    "# think of it like downloading a file"
   ]
  },
  {
   "cell_type": "markdown",
   "metadata": {},
   "source": [
    "#### Let's plot a graph of the Ojai Streets Network"
   ]
  },
  {
   "cell_type": "code",
   "execution_count": null,
   "metadata": {},
   "outputs": [],
   "source": []
  },
  {
   "cell_type": "markdown",
   "metadata": {},
   "source": [
    "#### This OSMnx object from `ox.graph_from_place()` is not a GeoDataFrame object"
   ]
  },
  {
   "cell_type": "code",
   "execution_count": null,
   "metadata": {},
   "outputs": [],
   "source": []
  },
  {
   "cell_type": "markdown",
   "metadata": {},
   "source": [
    "#### Let's get the Nodes and Edges of the Graph"
   ]
  },
  {
   "cell_type": "code",
   "execution_count": null,
   "metadata": {},
   "outputs": [],
   "source": []
  },
  {
   "cell_type": "markdown",
   "metadata": {},
   "source": [
    "#### Let's look at `graph_gdfs`"
   ]
  },
  {
   "cell_type": "code",
   "execution_count": null,
   "metadata": {},
   "outputs": [],
   "source": []
  },
  {
   "cell_type": "code",
   "execution_count": null,
   "metadata": {},
   "outputs": [],
   "source": []
  },
  {
   "cell_type": "markdown",
   "metadata": {},
   "source": [
    "#### We'll also grab the boundary for Ojai, California"
   ]
  },
  {
   "cell_type": "code",
   "execution_count": null,
   "metadata": {},
   "outputs": [],
   "source": []
  },
  {
   "cell_type": "code",
   "execution_count": null,
   "metadata": {},
   "outputs": [],
   "source": []
  },
  {
   "cell_type": "markdown",
   "metadata": {},
   "source": [
    "#### Plot them together"
   ]
  },
  {
   "cell_type": "code",
   "execution_count": 14,
   "metadata": {},
   "outputs": [],
   "source": [
    "fig, ax = plt.subplots(figsize=(12, 12))\n",
    "\n",
    "ojai_bounds.plot(ax=ax)\n",
    "streets.plot(ax=ax, color='red')\n",
    "intersections.plot(ax=ax, color='pink')\n",
    "\n",
    "plt.title('Ojai, California Streets')\n",
    "\n",
    "plt.show();"
   ]
  },
  {
   "cell_type": "markdown",
   "metadata": {},
   "source": [
    "#### Let's grab a road network around Pratt University"
   ]
  },
  {
   "cell_type": "code",
   "execution_count": 239,
   "metadata": {},
   "outputs": [],
   "source": [
    "# source: https://github.com/gboeing/osmnx-examples/tree/master/notebooks\n",
    "\n",
    "pratt_network = ox.graph_from_address(\n",
    "    address='200 Willoughby Ave, Brooklyn, NY 11205', \n",
    "    distance=1000,   # meters\n",
    "    distance_type='network',\n",
    "    retain_all=True,\n",
    "    truncate_by_edge=False,\n",
    "    simplify=False,\n",
    ")\n"
   ]
  },
  {
   "cell_type": "markdown",
   "metadata": {},
   "source": [
    "#### OSMnx allows for quick projection to UTM Zone"
   ]
  },
  {
   "cell_type": "code",
   "execution_count": 15,
   "metadata": {},
   "outputs": [],
   "source": [
    "# you can project the network to UTM (zone calculated automatically)\n"
   ]
  },
  {
   "cell_type": "markdown",
   "metadata": {},
   "source": [
    "#### Let's look at the Projection system (crs) info "
   ]
  },
  {
   "cell_type": "code",
   "execution_count": null,
   "metadata": {},
   "outputs": [],
   "source": []
  },
  {
   "cell_type": "markdown",
   "metadata": {},
   "source": [
    "#### Let's use `ox.plot_graph` to plot our Graph"
   ]
  },
  {
   "cell_type": "code",
   "execution_count": null,
   "metadata": {},
   "outputs": [],
   "source": []
  },
  {
   "cell_type": "markdown",
   "metadata": {},
   "source": [
    "#### Let's parse those out into a set of GeoDataFrames"
   ]
  },
  {
   "cell_type": "code",
   "execution_count": 16,
   "metadata": {},
   "outputs": [],
   "source": [
    "# source: https://github.com/gboeing/osmnx-examples/tree/master/notebooks\n"
   ]
  },
  {
   "cell_type": "markdown",
   "metadata": {},
   "source": [
    "#### And pull out the intersections and the streets"
   ]
  },
  {
   "cell_type": "code",
   "execution_count": null,
   "metadata": {},
   "outputs": [],
   "source": []
  },
  {
   "cell_type": "markdown",
   "metadata": {},
   "source": [
    "#### Let's grab just the pratt address from our `address` GeoDataFrame"
   ]
  },
  {
   "cell_type": "code",
   "execution_count": null,
   "metadata": {},
   "outputs": [],
   "source": []
  },
  {
   "cell_type": "markdown",
   "metadata": {},
   "source": [
    "#### Let's overlay our Radial Buffer and our Network Analysis 1km output. "
   ]
  },
  {
   "cell_type": "code",
   "execution_count": 18,
   "metadata": {},
   "outputs": [],
   "source": [
    "# source: https://github.com/gboeing/osmnx-examples/tree/master/notebooks\n",
    "\n",
    "fig, ax = plt.subplots(figsize=(12, 12))\n",
    "\n",
    "pratt_point.to_crs(epsg=2263).buffer(3280.84).plot(ax=ax)  # 2 km buffer\n",
    "pratt_streets.to_crs(epsg=2263).plot(ax=ax, color='red')\n",
    "pratt_intersections.to_crs(epsg=2263).plot(ax=ax, color='pink')\n",
    "pratt_point.to_crs(epsg=2263).plot(ax=ax, color='black', markersize=5000, marker='X')  # 2 km buffer\n",
    "\n",
    "\n",
    "plt.title('Radial vs. Network Buffer')\n",
    "\n",
    "plt.show();"
   ]
  },
  {
   "cell_type": "markdown",
   "metadata": {},
   "source": [
    "# Let's use a smaller buffer and \"Clip\" our Streets Data"
   ]
  },
  {
   "cell_type": "markdown",
   "metadata": {},
   "source": [
    "#### Copy our `pratt_point`"
   ]
  },
  {
   "cell_type": "code",
   "execution_count": null,
   "metadata": {},
   "outputs": [],
   "source": []
  },
  {
   "cell_type": "markdown",
   "metadata": {},
   "source": [
    "#### Plot our `circle`"
   ]
  },
  {
   "cell_type": "code",
   "execution_count": null,
   "metadata": {},
   "outputs": [],
   "source": []
  },
  {
   "cell_type": "markdown",
   "metadata": {},
   "source": [
    "#### Change the CRS to NY State Plane\n"
   ]
  },
  {
   "cell_type": "code",
   "execution_count": null,
   "metadata": {},
   "outputs": [],
   "source": []
  },
  {
   "cell_type": "markdown",
   "metadata": {},
   "source": [
    "#### Set it's geometry column to a buffer of 1000 feet"
   ]
  },
  {
   "cell_type": "code",
   "execution_count": null,
   "metadata": {},
   "outputs": [],
   "source": []
  },
  {
   "cell_type": "markdown",
   "metadata": {},
   "source": [
    "#### We'll actually set back to WGS 84, not good in practice"
   ]
  },
  {
   "cell_type": "code",
   "execution_count": null,
   "metadata": {},
   "outputs": [],
   "source": []
  },
  {
   "cell_type": "markdown",
   "metadata": {},
   "source": [
    "#### Plot"
   ]
  },
  {
   "cell_type": "code",
   "execution_count": null,
   "metadata": {},
   "outputs": [],
   "source": []
  },
  {
   "cell_type": "markdown",
   "metadata": {},
   "source": [
    "#### Plot `pratt_streets`"
   ]
  },
  {
   "cell_type": "code",
   "execution_count": null,
   "metadata": {},
   "outputs": [],
   "source": []
  },
  {
   "cell_type": "code",
   "execution_count": 19,
   "metadata": {},
   "outputs": [],
   "source": [
    "fig, ax = plt.subplots(figsize=(12, 12))\n",
    "\n",
    "circle.plot(ax=ax)\n",
    "pratt_streets.plot(ax=ax, color='red')\n",
    "#intersections.plot(ax=ax, color='pink')\n",
    "\n",
    "plt.title('Pratt Streets with Smaller Buffer')\n",
    "\n",
    "plt.show();"
   ]
  },
  {
   "cell_type": "markdown",
   "metadata": {},
   "source": [
    "# Spatial Join to Clip our Streets "
   ]
  },
  {
   "cell_type": "code",
   "execution_count": null,
   "metadata": {},
   "outputs": [],
   "source": []
  },
  {
   "cell_type": "markdown",
   "metadata": {},
   "source": [
    "#### Plot `street_join`"
   ]
  },
  {
   "cell_type": "code",
   "execution_count": null,
   "metadata": {},
   "outputs": [],
   "source": []
  },
  {
   "cell_type": "markdown",
   "metadata": {},
   "source": [
    "#### Show Head of `street_join`"
   ]
  },
  {
   "cell_type": "code",
   "execution_count": null,
   "metadata": {},
   "outputs": [],
   "source": []
  },
  {
   "cell_type": "markdown",
   "metadata": {},
   "source": [
    "#### Query our GeoDataFrame, only include features that intersect with Pratt 1000 feet circle"
   ]
  },
  {
   "cell_type": "code",
   "execution_count": null,
   "metadata": {},
   "outputs": [],
   "source": [
    "street_clip = street_join[street_join['name_right'] == 'Pratt']"
   ]
  },
  {
   "cell_type": "markdown",
   "metadata": {},
   "source": [
    "#### Check the `value_counts()`"
   ]
  },
  {
   "cell_type": "code",
   "execution_count": null,
   "metadata": {},
   "outputs": [],
   "source": []
  },
  {
   "cell_type": "markdown",
   "metadata": {},
   "source": [
    "#### Plot"
   ]
  },
  {
   "cell_type": "code",
   "execution_count": 20,
   "metadata": {},
   "outputs": [],
   "source": [
    "fig, ax = plt.subplots(figsize=(12, 12))\n",
    "\n",
    "circle.plot(ax=ax)\n",
    "pratt_streets.plot(ax=ax, color='red')\n",
    "#intersections.plot(ax=ax, color='pink')\n",
    "\n",
    "street_clip.plot(ax=ax, color='yellow')\n",
    "\n",
    "plt.title('Pratt Streets with Smaller Buffer and Clipped Streets')\n",
    "\n",
    "plt.show();"
   ]
  },
  {
   "cell_type": "markdown",
   "metadata": {},
   "source": [
    "# Gitignore Review\n",
    "\n",
    "> A gitignore file specifies intentionally untracked files that Git should ignore. Files already tracked by Git are not affected... Each line in a gitignore file specifies a pattern. Source: https://git-scm.com/docs/gitignore\n",
    "\n",
    "![gitignore](https://i.stack.imgur.com/coZgL.png)\n",
    "_Source: [https://stackoverflow.com/questions/29618048/file-shows-up-in-the-list-of-files-to-commit-in-github-for-windows-whereas-it-is](https://stackoverflow.com/questions/29618048/file-shows-up-in-the-list-of-files-to-commit-in-github-for-windows-whereas-it-is)_\n",
    "\n",
    "#### Useful `.gitignore` file links\n",
    "* https://git-scm.com/docs/gitignore\n",
    "* https://help.github.com/en/github/using-git/ignoring-files"
   ]
  }
 ],
 "metadata": {
  "kernelspec": {
   "display_name": "Python 3",
   "language": "python",
   "name": "python3"
  },
  "language_info": {
   "codemirror_mode": {
    "name": "ipython",
    "version": 3
   },
   "file_extension": ".py",
   "mimetype": "text/x-python",
   "name": "python",
   "nbconvert_exporter": "python",
   "pygments_lexer": "ipython3",
   "version": "3.7.4"
  },
  "toc": {
   "base_numbering": 1,
   "nav_menu": {},
   "number_sections": false,
   "sideBar": true,
   "skip_h1_title": false,
   "title_cell": "Table of Contents",
   "title_sidebar": "Contents",
   "toc_cell": true,
   "toc_position": {
    "height": "856.364px",
    "left": "34px",
    "top": "110.284px",
    "width": "177.833px"
   },
   "toc_section_display": true,
   "toc_window_display": false
  }
 },
 "nbformat": 4,
 "nbformat_minor": 2
}
